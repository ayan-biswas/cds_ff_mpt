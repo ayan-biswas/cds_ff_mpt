{
 "cells": [
  {
   "cell_type": "markdown",
   "metadata": {},
   "source": [
    "# Schematic Generators"
   ]
  },
  {
   "cell_type": "markdown",
   "metadata": {},
   "source": [
    "## What you will learn\n",
    "* How to write schematic generators\n",
    "* Write a schematic generator for a source follower"
   ]
  },
  {
   "cell_type": "markdown",
   "metadata": {},
   "source": [
    "## Schematic Generation Flow\n",
    "1. Create schematic in virtuoso\n",
    "2. Import schematic from virtuoso to Python\n",
    "3. Implement schematic design method\n",
    "4. Use BAG to create new instances of the schematic"
   ]
  },
  {
   "cell_type": "markdown",
   "metadata": {},
   "source": [
    "## bag_libs.def file\n",
    "```\n",
    "BAG_prim $BAG_TECH_CONFIG_DIR/DesignModules\n",
    "logic_templates laygo/generators/logic/BagModules\n",
    "adc_sar_templates BagModules\n",
    "clk_dis_templates BagModules\n",
    "cds_ff_mpt_microtemplates_dense BagModules\n",
    "bag_testbenches_ec $BAG_WORK_DIR/bag_testbenches_ec/BagModules\n",
    "demo_templates $BAG_WORK_DIR/BAG_XBase_demo/BagModules\n",
    "```\n",
    "* The \"cds.lib\" file for BAG\n",
    "* Each schematic library in virtuoso is converted to a Python package\n",
    "* bag_libs.def lists locations to save/load schematic generators"
   ]
  },
  {
   "cell_type": "markdown",
   "metadata": {},
   "source": [
    "## CS Amplifier Schematic Generator\n",
    "```python\n",
    "class demo_templates__amp_cs(Module):\n",
    "\n",
    "    # list of schematic parameters\n",
    "    param_list = ['lch', 'w_dict', 'intent_dict', 'fg_dict', ]\n",
    "\n",
    "    def __init__(self, bag_config, parent=None, prj=None, **kwargs):\n",
    "        Module.__init__(self, bag_config, yaml_file, parent=parent,\n",
    "                        prj=prj, **kwargs)\n",
    "        # initialize self.parameters dictionary\n",
    "        for par in self.param_list:\n",
    "            self.parameters[par] = None\n",
    "```\n",
    "* BAG_XBase_demo/BagModules/demo_templates/amp_cs.py\n",
    "* Schematic generators are subclass of Module\n",
    "* self.parameters is a dictionary from parameter names to values"
   ]
  },
  {
   "cell_type": "markdown",
   "metadata": {},
   "source": [
    "## The Design Method\n",
    "```python\n",
    "def design(self, lch=18e-9, w_dict=None, intent_dict=None, fg_dict=None):\n",
    "    # populate self.parameters dictionary\n",
    "    local_dict = locals()\n",
    "    for name in self.param_list:\n",
    "        if name not in local_dict:\n",
    "            raise ValueError('Parameter %s not specified.' % name)\n",
    "        self.parameters[name] = local_dict[name]\n",
    "```\n",
    "* design() method declares parameter names and assign default values\n",
    "* The first five lines populates self.parameters dictionary"
   ]
  },
  {
   "cell_type": "markdown",
   "metadata": {},
   "source": [
    "## Setting Transistor Parameters\n",
    "```python\n",
    "# set transistor parameters\n",
    "self.instances['XP'].design(w=wp, l=lch, intent=intentp, nf=fg_load)\n",
    "self.instances['XPD'].design(w=wp, l=lch, intent=intentp, nf=fg_dump)\n",
    "self.instances['XN'].design(w=wn, l=lch, intent=intentn, nf=fg_amp)\n",
    "\n",
    "if len(fg_dumn_list) == 1:\n",
    "    self.instances['XND'].design(w=wn, l=lch, intent=intentn, nf=fg_dumn_list[0])\n",
    "```\n",
    "* self.instances is a dictionary of all instances in this schematic, which are Module objects\n",
    "* BAG_prim transistors have design() method that takes w, l, intent, and nf, and will set the transistor parameters accordingly"
   ]
  },
  {
   "cell_type": "markdown",
   "metadata": {},
   "source": [
    "## Dummies and array_instance()\n",
    "```python\n",
    "else:\n",
    "    # we have two types of dummies.  Use array_instance to add a new\n",
    "    # dummy transistor.\n",
    "    name_list = ['XND0', 'XND1']\n",
    "    term_list = [{}, dict(D='vout')]\n",
    "    self.array_instance('XND', name_list, term_list=term_list)\n",
    "    self.instances['XND'][0].design(w=wn, l=lch, intent=intentn, nf=fg_dumn_list[0])\n",
    "    self.instances['XND'][1].design(w=wn, l=lch, intent=intentn, nf=fg_dumn_list[1])\n",
    "```\n",
    "* Recall that for CS amplifier, dummies have to change depending on (fg_load-fg_amp) % 4\n",
    "* self.array_instance() convert a single instance to a list of instances\n",
    "    * Used here to add a new dummy transistor"
   ]
  },
  {
   "cell_type": "markdown",
   "metadata": {},
   "source": [
    "## SF Schematic Exercise\n",
    "* Open demo_templates/amp_sf in virtuoso\n",
    "* Put in the non-dummy transistors and proper connections\n",
    "    * Named the amplifying transistor XAMP, then bias transistor XBIAS\n",
    "* See schematic for amp_sf_soln if you're stuck\n",
    "* Note: don't move pin locations, use stub connection by name\n",
    "* After completing the schematic, run the following cell which will update the netlist associated with amp_sf"
   ]
  },
  {
   "cell_type": "code",
   "execution_count": 1,
   "metadata": {},
   "outputs": [
    {
     "name": "stdout",
     "output_type": "stream",
     "text": [
      "creating BagProject\n",
      "importing netlist from virtuoso\n",
      "netlist import done\n"
     ]
    }
   ],
   "source": [
    "import bag\n",
    "\n",
    "# obtain BagProject instance\n",
    "local_dict = locals()\n",
    "if 'bprj' in local_dict:\n",
    "    print('using existing BagProject')\n",
    "    bprj = local_dict['bprj']\n",
    "else:\n",
    "    print('creating BagProject')\n",
    "    bprj = bag.BagProject()\n",
    "    \n",
    "print('importing netlist from virtuoso')\n",
    "bprj.import_design_library('demo_templates')\n",
    "print('netlist import done')"
   ]
  },
  {
   "cell_type": "markdown",
   "metadata": {
    "collapsed": true
   },
   "source": [
    "## Implement Schematic Generator\n",
    "* Fill in the missing parts of the following cell\n",
    "* When finished, run the cell below it to run the flow\n",
    "* LVS should pass and characterization should finish successfully\n",
    "* The solution is listed at the bottom\n",
    "* NOTE: whenever you change the schematic in virtuoso, you have to import the schematic to Python again"
   ]
  },
  {
   "cell_type": "code",
   "execution_count": 4,
   "metadata": {
    "collapsed": true
   },
   "outputs": [],
   "source": [
    "import os\n",
    "\n",
    "from bag.design import Module\n",
    "\n",
    "\n",
    "# noinspection PyPep8Naming\n",
    "class demo_templates__amp_sf(Module):\n",
    "    \"\"\"Schematic generator for a source follower.\n",
    "    \"\"\"\n",
    "    \n",
    "    # hard coded netlist flie path to get jupyter notebook working.\n",
    "    yaml_file = os.path.join(os.environ['BAG_WORK_DIR'], 'BAG_XBase_demo', \n",
    "                             'BagModules', 'demo_templates', 'netlist_info', 'amp_sf.yaml') \n",
    "\n",
    "    def __init__(self, bag_config, parent=None, prj=None, **kwargs):\n",
    "        Module.__init__(self, bag_config, self.yaml_file, parent=parent, prj=prj, **kwargs)\n",
    "\n",
    "    @classmethod\n",
    "    def get_params_info(cls):\n",
    "        # type: () -> Dict[str, str]\n",
    "        \"\"\"Returns a dictionary from parameter names to descriptions.\n",
    "\n",
    "        Returns\n",
    "        -------\n",
    "        param_info : Optional[Dict[str, str]]\n",
    "            dictionary from parameter names to descriptions.\n",
    "        \"\"\"\n",
    "        return dict(\n",
    "            lch='channel length in meters.',\n",
    "            w_dict='Dictionary of transistor widths.',\n",
    "            intent_dict='Dictionary of transistor threshold flavors.',\n",
    "            fg_dict='Dictionary of transistor number of fingers.',\n",
    "        )\n",
    "        \n",
    "    def design(self, lch=18e-9, w_dict=None, intent_dict=None, fg_dict=None):\n",
    "        \"\"\"Set the parameters of source follower.\n",
    "        \"\"\"\n",
    "        w_amp = w_dict['amp']\n",
    "        w_bias = w_dict['bias']\n",
    "        intent_amp = intent_dict['amp']\n",
    "        intent_bias = intent_dict['bias']\n",
    "        fg_amp = fg_dict['amp']\n",
    "        fg_bias = fg_dict['bias']\n",
    "\n",
    "        # TODO: design XAMP and XBIAS transistors\n",
    "        # related code from amp_cs schematic generator are copied below\n",
    "        # for reference\n",
    "        # self.instances['XP'].design(w=wp, l=lch, intent=intentp, nf=fg_load)\n",
    "        # self.instances['XPD'].design(w=wp, l=lch, intent=intentp, nf=fg_dump)\n",
    "        # self.instances['XN'].design(w=wn, l=lch, intent=intentn, nf=fg_amp)\n",
    "\n",
    "        # algorithm for drawing dummies\n",
    "        fg_dum_list = fg_dict['dum_list']\n",
    "        num_dummies = len(fg_dum_list)\n",
    "        name_list = ['XDUM%d' % idx for idx in range(num_dummies)]\n",
    "\n",
    "        if (fg_amp - fg_bias) % 4 == 0:\n",
    "            term_list = [{}, {}, dict(D='VDD')]\n",
    "        else:\n",
    "            term_list = [{}, {}, dict(D='vout')]\n",
    "\n",
    "        self.array_instance('XDUM', name_list, term_list=term_list)\n",
    "        self.instances['XDUM'][0].design(w=w_bias, l=lch, intent=intent_bias, nf=fg_dum_list[0])\n",
    "        self.instances['XDUM'][1].design(w=w_amp, l=lch, intent=intent_amp, nf=fg_dum_list[1])\n",
    "        self.instances['XDUM'][2].design(w=w_amp, l=lch, intent=intent_amp, nf=fg_dum_list[2])"
   ]
  },
  {
   "cell_type": "code",
   "execution_count": 5,
   "metadata": {},
   "outputs": [
    {
     "name": "stdout",
     "output_type": "stream",
     "text": [
      "using existing BagProject\n",
      "computing layout\n",
      "ext_w0 = 1, ext_wend=9, tot_ntr=20\n",
      "ext_w0 = 2, ext_wend=8, tot_ntr=20\n",
      "ext_w0 = 4, ext_wend=9, tot_ntr=21\n",
      "final: ext_w0 = 2, ext_wend=8, tot_ntr=20\n",
      "creating layout\n",
      "layout done\n",
      "creating AMP_SF schematics\n",
      "DEPRECATED WARNING: erase is no longer supported in implement_design() and has no effect\n",
      "running lvs\n",
      "Running tasks, Press Ctrl-C to cancel.\n"
     ]
    },
    {
     "ename": "ValueError",
     "evalue": "LVS failed.  check log file: /tools/projects/erichang/bag_gen/BAG2_cds_ff_mpt/pvs_run/lvs_run_dir/DEMO_AMP_SF/AMP_SF/lvsLog_20171127_093054t4owb6k3",
     "output_type": "error",
     "traceback": [
      "\u001b[1;31m---------------------------------------------------------------------------\u001b[0m",
      "\u001b[1;31mValueError\u001b[0m                                Traceback (most recent call last)",
      "\u001b[1;32m<ipython-input-5-14aa9a0db7f5>\u001b[0m in \u001b[0;36m<module>\u001b[1;34m()\u001b[0m\n\u001b[0;32m     22\u001b[0m     \u001b[0mbprj\u001b[0m \u001b[1;33m=\u001b[0m \u001b[0mbag\u001b[0m\u001b[1;33m.\u001b[0m\u001b[0mBagProject\u001b[0m\u001b[1;33m(\u001b[0m\u001b[1;33m)\u001b[0m\u001b[1;33m\u001b[0m\u001b[0m\n\u001b[0;32m     23\u001b[0m \u001b[1;33m\u001b[0m\u001b[0m\n\u001b[1;32m---> 24\u001b[1;33m \u001b[0mdemo_core\u001b[0m\u001b[1;33m.\u001b[0m\u001b[0mrun_flow\u001b[0m\u001b[1;33m(\u001b[0m\u001b[0mbprj\u001b[0m\u001b[1;33m,\u001b[0m \u001b[0mtop_specs\u001b[0m\u001b[1;33m,\u001b[0m \u001b[1;34m'amp_sf'\u001b[0m\u001b[1;33m,\u001b[0m \u001b[0mAmpSFSoln\u001b[0m\u001b[1;33m,\u001b[0m \u001b[0msch_cls\u001b[0m\u001b[1;33m=\u001b[0m\u001b[0mdemo_templates__amp_sf\u001b[0m\u001b[1;33m,\u001b[0m \u001b[0mrun_lvs\u001b[0m\u001b[1;33m=\u001b[0m\u001b[1;32mTrue\u001b[0m\u001b[1;33m)\u001b[0m\u001b[1;33m\u001b[0m\u001b[0m\n\u001b[0m",
      "\u001b[1;32m/tools/projects/erichang/bag_gen/BAG2_cds_ff_mpt/BAG_XBase_demo/xbase_demo/core.py\u001b[0m in \u001b[0;36mrun_flow\u001b[1;34m(prj, specs, dsn_name, lay_cls, sch_cls, run_lvs, lvs_only)\u001b[0m\n\u001b[0;32m    375\u001b[0m     \u001b[0mdsn_sch_params\u001b[0m \u001b[1;33m=\u001b[0m \u001b[0mgen_layout\u001b[0m\u001b[1;33m(\u001b[0m\u001b[0mprj\u001b[0m\u001b[1;33m,\u001b[0m \u001b[0mspecs\u001b[0m\u001b[1;33m,\u001b[0m \u001b[0mdsn_name\u001b[0m\u001b[1;33m,\u001b[0m \u001b[0mlay_cls\u001b[0m\u001b[1;33m)\u001b[0m\u001b[1;33m\u001b[0m\u001b[0m\n\u001b[0;32m    376\u001b[0m     \u001b[1;31m# generate design/testbench schematics\u001b[0m\u001b[1;33m\u001b[0m\u001b[1;33m\u001b[0m\u001b[0m\n\u001b[1;32m--> 377\u001b[1;33m     \u001b[0mgen_schematics\u001b[0m\u001b[1;33m(\u001b[0m\u001b[0mprj\u001b[0m\u001b[1;33m,\u001b[0m \u001b[0mspecs\u001b[0m\u001b[1;33m,\u001b[0m \u001b[0mdsn_name\u001b[0m\u001b[1;33m,\u001b[0m \u001b[0mdsn_sch_params\u001b[0m\u001b[1;33m,\u001b[0m \u001b[0msch_cls\u001b[0m\u001b[1;33m=\u001b[0m\u001b[0msch_cls\u001b[0m\u001b[1;33m,\u001b[0m \u001b[0mcheck_lvs\u001b[0m\u001b[1;33m=\u001b[0m\u001b[0mrun_lvs\u001b[0m\u001b[1;33m,\u001b[0m \u001b[0mlvs_only\u001b[0m\u001b[1;33m=\u001b[0m\u001b[0mlvs_only\u001b[0m\u001b[1;33m)\u001b[0m\u001b[1;33m\u001b[0m\u001b[0m\n\u001b[0m\u001b[0;32m    378\u001b[0m \u001b[1;33m\u001b[0m\u001b[0m\n\u001b[0;32m    379\u001b[0m     \u001b[1;32mif\u001b[0m \u001b[0mlvs_only\u001b[0m\u001b[1;33m:\u001b[0m\u001b[1;33m\u001b[0m\u001b[0m\n",
      "\u001b[1;32m/tools/projects/erichang/bag_gen/BAG2_cds_ff_mpt/BAG_XBase_demo/xbase_demo/core.py\u001b[0m in \u001b[0;36mgen_schematics\u001b[1;34m(prj, specs, dsn_name, sch_params, sch_cls, check_lvs, lvs_only)\u001b[0m\n\u001b[0;32m    112\u001b[0m         \u001b[0mlvs_passed\u001b[0m\u001b[1;33m,\u001b[0m \u001b[0mlvs_log\u001b[0m \u001b[1;33m=\u001b[0m \u001b[0mprj\u001b[0m\u001b[1;33m.\u001b[0m\u001b[0mrun_lvs\u001b[0m\u001b[1;33m(\u001b[0m\u001b[0mimpl_lib\u001b[0m\u001b[1;33m,\u001b[0m \u001b[0mgen_cell\u001b[0m\u001b[1;33m)\u001b[0m\u001b[1;33m\u001b[0m\u001b[0m\n\u001b[0;32m    113\u001b[0m         \u001b[1;32mif\u001b[0m \u001b[1;32mnot\u001b[0m \u001b[0mlvs_passed\u001b[0m\u001b[1;33m:\u001b[0m\u001b[1;33m\u001b[0m\u001b[0m\n\u001b[1;32m--> 114\u001b[1;33m             \u001b[1;32mraise\u001b[0m \u001b[0mValueError\u001b[0m\u001b[1;33m(\u001b[0m\u001b[1;34m'LVS failed.  check log file: %s'\u001b[0m \u001b[1;33m%\u001b[0m \u001b[0mlvs_log\u001b[0m\u001b[1;33m)\u001b[0m\u001b[1;33m\u001b[0m\u001b[0m\n\u001b[0m\u001b[0;32m    115\u001b[0m         \u001b[1;32melse\u001b[0m\u001b[1;33m:\u001b[0m\u001b[1;33m\u001b[0m\u001b[0m\n\u001b[0;32m    116\u001b[0m             \u001b[0mprint\u001b[0m\u001b[1;33m(\u001b[0m\u001b[1;34m'lvs passed'\u001b[0m\u001b[1;33m)\u001b[0m\u001b[1;33m\u001b[0m\u001b[0m\n",
      "\u001b[1;31mValueError\u001b[0m: LVS failed.  check log file: /tools/projects/erichang/bag_gen/BAG2_cds_ff_mpt/pvs_run/lvs_run_dir/DEMO_AMP_SF/AMP_SF/lvsLog_20171127_093054t4owb6k3"
     ]
    }
   ],
   "source": [
    "import os\n",
    "\n",
    "# import bag package\n",
    "import bag\n",
    "from bag.io import read_yaml\n",
    "\n",
    "# import BAG demo Python modules\n",
    "import xbase_demo.core as demo_core\n",
    "from xbase_demo.demo_layout.core import AmpSFSoln\n",
    "\n",
    "# load circuit specifications from file\n",
    "spec_fname = os.path.join(os.environ['BAG_WORK_DIR'], 'specs_demo/demo.yaml')\n",
    "top_specs = read_yaml(spec_fname)\n",
    "\n",
    "# obtain BagProject instance\n",
    "local_dict = locals()\n",
    "if 'bprj' in local_dict:\n",
    "    print('using existing BagProject')\n",
    "    bprj = local_dict['bprj']\n",
    "else:\n",
    "    print('creating BagProject')\n",
    "    bprj = bag.BagProject()\n",
    "\n",
    "demo_core.run_flow(bprj, top_specs, 'amp_sf', AmpSFSoln, sch_cls=demo_templates__amp_sf, run_lvs=True)"
   ]
  },
  {
   "cell_type": "markdown",
   "metadata": {},
   "source": [
    "## Solution\n",
    "```python\n",
    "class demo_templates__amp_sf(Module):\n",
    "    \"\"\"Schematic generator for a source follower.\n",
    "    \"\"\"\n",
    "    \n",
    "    # hard coded netlist flie path to get jupyter notebook working.\n",
    "    yaml_file = os.path.join(os.environ['BAG_WORK_DIR'], 'BAG_XBase_demo', \n",
    "                             'BagModules', 'demo_templates', 'netlist_info', 'amp_sf_soln.yaml') \n",
    "\n",
    "    def __init__(self, bag_config, parent=None, prj=None, **kwargs):\n",
    "        Module.__init__(self, bag_config, self.yaml_file, parent=parent, prj=prj, **kwargs)\n",
    "        \n",
    "    @classmethod\n",
    "    def get_params_info(cls):\n",
    "        # type: () -> Dict[str, str]\n",
    "        \"\"\"Returns a dictionary from parameter names to descriptions.\n",
    "\n",
    "        Returns\n",
    "        -------\n",
    "        param_info : Optional[Dict[str, str]]\n",
    "            dictionary from parameter names to descriptions.\n",
    "        \"\"\"\n",
    "        return dict(\n",
    "            lch='channel length in meters.',\n",
    "            w_dict='Dictionary of transistor widths.',\n",
    "            intent_dict='Dictionary of transistor threshold flavors.',\n",
    "            fg_dict='Dictionary of transistor number of fingers.',\n",
    "        )\n",
    "\n",
    "    def design(self, lch=18e-9, w_dict=None, intent_dict=None, fg_dict=None):\n",
    "        \"\"\"Set the parameters of source follower.\n",
    "        \"\"\"\n",
    "        w_amp = w_dict['amp']\n",
    "        w_bias = w_dict['bias']\n",
    "        intent_amp = intent_dict['amp']\n",
    "        intent_bias = intent_dict['bias']\n",
    "\n",
    "        fg_amp = fg_dict['amp']\n",
    "        fg_bias = fg_dict['bias']\n",
    "\n",
    "        self.instances['XAMP'].design(w=w_amp, l=lch, intent=intent_amp, nf=fg_amp)\n",
    "        self.instances['XBIAS'].design(w=w_bias, l=lch, intent=intent_bias, nf=fg_bias)\n",
    "\n",
    "        # design dummies\n",
    "        fg_dum_list = fg_dict['dum_list']\n",
    "        num_dummies = len(fg_dum_list)\n",
    "        name_list = ['XDUM%d' % idx for idx in range(num_dummies)]\n",
    "\n",
    "        if (fg_amp - fg_bias) % 4 == 0:\n",
    "            term_list = [{}, {}, dict(D='VDD')]\n",
    "        else:\n",
    "            term_list = [{}, {}, dict(D='vout')]\n",
    "\n",
    "        self.array_instance('XDUM', name_list, term_list=term_list)\n",
    "        self.instances['XDUM'][0].design(w=w_bias, l=lch, intent=intent_bias, nf=fg_dum_list[0])\n",
    "        self.instances['XDUM'][1].design(w=w_amp, l=lch, intent=intent_amp, nf=fg_dum_list[1])\n",
    "        self.instances['XDUM'][2].design(w=w_amp, l=lch, intent=intent_amp, nf=fg_dum_list[2])\n",
    "```"
   ]
  }
 ],
 "metadata": {
  "anaconda-cloud": {},
  "kernelspec": {
   "display_name": "Python 3",
   "language": "python",
   "name": "python3"
  },
  "language_info": {
   "codemirror_mode": {
    "name": "ipython",
    "version": 3
   },
   "file_extension": ".py",
   "mimetype": "text/x-python",
   "name": "python",
   "nbconvert_exporter": "python",
   "pygments_lexer": "ipython3",
   "version": "3.6.3"
  }
 },
 "nbformat": 4,
 "nbformat_minor": 1
}

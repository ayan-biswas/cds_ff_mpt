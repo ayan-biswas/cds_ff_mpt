{
 "cells": [
  {
   "cell_type": "markdown",
   "metadata": {},
   "source": [
    "# Module 2: XBase Routing API"
   ]
  },
  {
   "cell_type": "markdown",
   "metadata": {},
   "source": [
    "## What you will learn\n",
    "* XBase layout engine routing grid systems\n",
    "* Simple APU for creating tracks, vias, pins, etc.\n",
    "* TemplateBase self.size and self.bound_box attributes"
   ]
  },
  {
   "cell_type": "markdown",
   "metadata": {},
   "source": [
    "## XBase Routing Grid\n",
    "\n",
    "```yaml\n",
    "routing_grid:\n",
    "    layers: [4, 5, 6, 7]\n",
    "    spaces: [0.084, 0.100, 0.084, 0.100]\n",
    "    bot_dir: 'x'\n",
    "```\n",
    "* Defined in specification file.\n",
    "    * In demp_specs/demo.yaml\n",
    "* Track direction must alternate between layers\n",
    "*  Different layers can have different pitch\n",
    "* A layout must contain integer number of tracks on all layers"
   ]
  },
  {
   "cell_type": "markdown",
   "metadata": {},
   "source": [
    "## XBase Routing Tracks\n",
    "\n",
    "<img src=\"bootcamp_pics/2_xbase_routing/xbase_routing_1.PNG\" />\n",
    "* Track pitch is sum of width and space\n",
    "* Track 0 is half-pitch from boundary\n",
    "* Track locations are quantized\n",
    "<img src=\"bootcamp_pics/2_xbase_routing/xbase_routing_2.PNG\" />\n",
    "* Draw wider wires by using multiple tracks\n",
    "    * Wire width is quantized\n",
    "* Issues:\n",
    "    * Even width wire wastes space (width=2 takes up same space as width=3)\n",
    "    * Cannot share tracks with adjacent blocks\n",
    "<img src=\"bootcamp_pics/2_xbase_routing/xbase_routing_3.PNG\" />\n",
    "* Solution: allow half-integer tracks\n",
    "* Track -0.5 is right on the left/bottom boundary"
   ]
  },
  {
   "cell_type": "markdown",
   "metadata": {},
   "source": [
    "## TrackID and WireArray\n",
    "```python\n",
    "class TrackID(object):\n",
    "    def __init__(self, layer_id, track_idx, width=1, num=1, pitch=0.0):\n",
    "        #type: (int, Union[float, int], int, int, Union[float, int]) -> None\n",
    "        \n",
    "class WireArray(object):\n",
    "    def __init__(self, track_id, lower, upper):\n",
    "        #type: (TrackID, float, float) -> None\n",
    "```\n",
    "* Routing track location(s) represented by TrackID object\n",
    "* Physical wire(s) represented by WireArray object\n",
    "* Layout pins can only be added on WireArray objects\n",
    "* TrackID and WireArray has built-in support for drawing an array of wires"
   ]
  },
  {
   "cell_type": "code",
   "execution_count": 1,
   "metadata": {
    "collapsed": false
   },
   "outputs": [],
   "source": [
    "import sys\n",
    "sys.path.append('BAG_XBase_demo/demo_scripts')\n",
    "sys.path.append('BAG_XBase_demo/xbase_demo/demo_layout')\n",
    "import bootcamp_demo as d\n",
    "#import core\n",
    "from __future__ import (absolute_import, division,\n",
    "                        print_function, unicode_literals)\n",
    "# noinspection PyUnresolvedReferences,PyCompatibility\n",
    "from builtins import *\n",
    "\n",
    "from bag.layout.routing import TrackID\n",
    "from bag.layout.template import TemplateBase\n",
    "\n",
    "from abs_templates_ec.analog_core import AnalogBase"
   ]
  },
  {
   "cell_type": "markdown",
   "metadata": {},
   "source": [
    "## BAG Layout Generation Code\n",
    "```python\n",
    "def gen_layout(prj, specs, dsn_name):\n",
    "    # get information from specs\n",
    "    dsn_specs = specs[dsn_name]\n",
    "    impl_lib = dsn_specs['impl_lib']\n",
    "    layout_params = dsn_specs['layout_params']\n",
    "    lay_package = dsn_specs['layout_package']\n",
    "    lay_class = dsn_specs['layout_class']\n",
    "    gen_cell = dsn_specs['gen_cell']\n",
    "\n",
    "    # get layout generator class\n",
    "    lay_module = importlib.import_module(lay_package)\n",
    "    temp_cls = getattr(lay_module, lay_class)\n",
    "\n",
    "    # create layout template database\n",
    "    tdb = make_tdb(prj, specs, impl_lib)\n",
    "    # compute layout\n",
    "    print('computing layout')\n",
    "    template = tdb.new_template(params=layout_params, temp_cls=temp_cls)\n",
    "    # create layout in OA database\n",
    "    print('creating layout')\n",
    "    tdb.batch_layout(prj, [template], [gen_cell])\n",
    "    # return corresponding schematic parameters\n",
    "    print('layout done')\n",
    "    return template.sch_params\n",
    "```"
   ]
  },
  {
   "cell_type": "markdown",
   "metadata": {},
   "source": [
    "## BAG TemplateDB Creation Code\n",
    "```python\n",
    "def make_tdb(prj, specs, impl_lib):\n",
    "    grid_specs = specs['routing_grid']\n",
    "    layers = grid_specs['layers']\n",
    "    spaces = grid_specs['spaces']\n",
    "    widths = grid_specs['widths']\n",
    "    bot_dir = grid_specs['bot_dir']\n",
    "\n",
    "    # create RoutingGrid object\n",
    "    routing_grid = RoutingGrid(prj.tech_info, layers, spaces, widths, bot_dir)\n",
    "    # create layout template database\n",
    "    tdb = TemplateDB('template_libs.def', routing_grid, impl_lib, use_cybagoa=True)\n",
    "    return tdb\n",
    "```\n",
    "* TemplateDB is a database of all layouts created in BAG\n",
    "* It handles layout hierarchy and is also reponsible for creating layout in OA"
   ]
  },
  {
   "cell_type": "markdown",
   "metadata": {},
   "source": [
    "## Routing Code Example\n",
    "* BAG_XBase_demo/demo_layout/core.py\n",
    "* Look at the below code for the RoutingDemo class, draw_layout() function\n",
    "* Connecting between layers\n",
    "    * self.connect_to_tracks() connects one or more wires to tracks on an adjacent layer\n",
    "    * optimal vias are created automatically\n",
    "* Adding pins\n",
    "    * self.add_pin() creates layout pins on WireArrays\n",
    "    * These pins can be accessed in BAG when doing hierarchical layout\n",
    "* Size of a layout specified by the self.size attribute\n",
    "    * Defined as the number of vertical/horizontal tracks on the top two layers"
   ]
  },
  {
   "cell_type": "code",
   "execution_count": 2,
   "metadata": {
    "collapsed": false
   },
   "outputs": [],
   "source": [
    "class RoutingDemo_new(TemplateBase):\n",
    "    \"\"\"A template of a single transistor with dummies.\n",
    "    This class is mainly used for transistor characterization or\n",
    "    design exploration with config views.\n",
    "    Parameters\n",
    "    ----------\n",
    "    temp_db : :class:`bag.layout.template.TemplateDB`\n",
    "            the template database.\n",
    "    lib_name : str\n",
    "        the layout library name.\n",
    "    params : dict[str, any]\n",
    "        the parameter values.\n",
    "    used_names : set[str]\n",
    "        a set of already used cell names.\n",
    "    kwargs : dict[str, any]\n",
    "        dictionary of optional parameters.  See documentation of\n",
    "        :class:`bag.layout.template.TemplateBase` for details.\n",
    "    \"\"\"\n",
    "\n",
    "    def __init__(self, temp_db, lib_name, params, used_names, **kwargs):\n",
    "        super(RoutingDemo_new, self).__init__(temp_db, lib_name, params, used_names, **kwargs)\n",
    "\n",
    "    @classmethod\n",
    "    def get_params_info(cls):\n",
    "        \"\"\"Returns a dictionary containing parameter descriptions.\n",
    "        Override this method to return a dictionary from parameter names to descriptions.\n",
    "        Returns\n",
    "        -------\n",
    "        param_info : dict[str, str]\n",
    "            dictionary from parameter name to description.\n",
    "        \"\"\"\n",
    "        return {}\n",
    "\n",
    "    def draw_layout(self):\n",
    "        \"\"\"Draw the layout of a transistor for characterization.\n",
    "        \"\"\"\n",
    "\n",
    "        # Metal 4 is horizontal, Metal 5 is vertical\n",
    "        hm_layer = 4\n",
    "        vm_layer = 5\n",
    "\n",
    "        # add a horizontal wire on track 0, from X=0.1 to X=0.3\n",
    "        warr1 = self.add_wires(hm_layer, 0, 0.1, 0.3)\n",
    "        # print WireArray object\n",
    "        print(warr1)\n",
    "        # print lower, middle, and upper coordinate of wire.\n",
    "        print(warr1.lower, warr1.middle, warr1.upper)\n",
    "        # print TrackID object associated with WireArray\n",
    "        print(warr1.track_id)\n",
    "        # add a horizontal wire on track 1, from X=0.1 to X=0.3,\n",
    "        # coordinates specified in resolution units\n",
    "        warr2 = self.add_wires(hm_layer, 1, 100, 300, unit_mode=True)\n",
    "        # add a horizontal wire on track 2.5, from X=0.2 to X=0.4\n",
    "        self.add_wires(hm_layer, 2.5, 200, 400, unit_mode=True)\n",
    "        # add a horizontal wire on track 4, from X=0.2 to X=0.4, with 2 tracks wide\n",
    "        warr3 = self.add_wires(hm_layer, 4, 200, 400, width=2, unit_mode=True)\n",
    "\n",
    "        # add 3 parallel vertical wires starting on track 6 and use every other track\n",
    "        warr4 = self.add_wires(vm_layer, 6, 100, 400, num=3, pitch=2, unit_mode=True)\n",
    "        print(warr4)\n",
    "\n",
    "        # create a TrackID object representing a vertical track\n",
    "        tid = TrackID(vm_layer, 3, width=2, num=1, pitch=0)\n",
    "        # connect horizontal wires to the vertical track\n",
    "        warr5 = self.connect_to_tracks([warr1, warr3], tid)\n",
    "        print(warr5)\n",
    "\n",
    "        # add a pin on a WireArray\n",
    "        self.add_pin('pin1', warr1)\n",
    "        # add a pin, but make label different than net name.  Useful for LVS connect\n",
    "        self.add_pin('pin2', warr2, label='pin2:')\n",
    "        # add_pin also works for WireArray representing multiple wires\n",
    "        self.add_pin('pin3', warr4)\n",
    "        # add a pin (so it is visible in BAG), but do not create the actual layout\n",
    "        # in OA.  This is useful for hiding pins on lower levels of hierarchy.\n",
    "        self.add_pin('pin4', warr3, show=False)\n",
    "\n",
    "        # set the size of this template\n",
    "        top_layer = vm_layer\n",
    "        num_h_tracks = 6\n",
    "        num_v_tracks = 11\n",
    "        # size is 3-element tuple of top layer ID, number of top\n",
    "        # vertical tracks, and number of top horizontal tracks\n",
    "        self.size = top_layer, num_v_tracks, num_h_tracks\n",
    "        # print bounding box of this template\n",
    "        print(self.bound_box)\n",
    "        # add a M7 rectangle to visualize bounding box in layout\n",
    "        self.add_rect('M7', self.bound_box)"
   ]
  },
  {
   "cell_type": "markdown",
   "metadata": {},
   "source": [
    "* Play around with some of the parameters in the above demo class and run the following cell to generate layout in DEMO_ROUTING library"
   ]
  },
  {
   "cell_type": "code",
   "execution_count": 3,
   "metadata": {
    "collapsed": false
   },
   "outputs": [
    {
     "name": "stdout",
     "output_type": "stream",
     "text": [
      "creating BagProject\n",
      "computing layout\n",
      "WireArray(TrackID(layer=4, track=0), 0.1, 0.3)\n",
      "0.1 0.2 0.3\n",
      "TrackID(layer=4, track=0)\n",
      "WireArray(TrackID(layer=5, track=6, num=3, pitch=2), 0.1, 0.4)\n",
      "WireArray(TrackID(layer=5, track=3, width=2), 0.042, 0.75)\n",
      "BBox(0.000, 0.000, 1.980, 0.864)\n",
      "creating layout\n",
      "layout done\n"
     ]
    }
   ],
   "source": [
    "spec_fname = 'demo_specs/demo.yaml'\n",
    "top_specs = d.read_yaml(spec_fname)\n",
    "\n",
    "# create BagProject object\n",
    "local_dict = locals()\n",
    "if 'bprj' in local_dict:\n",
    "    print('using existing BagProject')\n",
    "    bprj = local_dict['bprj']\n",
    "else:\n",
    "    print('creating BagProject')\n",
    "    bprj = d.BagProject()\n",
    "\n",
    "d.routing_demo(bprj, top_specs, RoutingDemo_new)"
   ]
  },
  {
   "cell_type": "code",
   "execution_count": null,
   "metadata": {
    "collapsed": true
   },
   "outputs": [],
   "source": []
  }
 ],
 "metadata": {
  "anaconda-cloud": {},
  "kernelspec": {
   "display_name": "Python 3",
   "language": "python",
   "name": "python3"
  },
  "language_info": {
   "codemirror_mode": {
    "name": "ipython",
    "version": 3
   },
   "file_extension": ".py",
   "mimetype": "text/x-python",
   "name": "python",
   "nbconvert_exporter": "python",
   "pygments_lexer": "ipython3",
   "version": "3.5.2"
  }
 },
 "nbformat": 4,
 "nbformat_minor": 1
}
